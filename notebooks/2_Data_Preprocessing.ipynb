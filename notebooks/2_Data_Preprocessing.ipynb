{
 "cells": [
  {
   "cell_type": "code",
   "execution_count": 1,
   "metadata": {},
   "outputs": [],
   "source": [
    "# Importar bibliotecas necessárias\n",
    "import json\n",
    "import os\n",
    "import math\n",
    "import librosa\n",
    "import librosa.display\n",
    "import numpy as np\n",
    "import matplotlib.pyplot as plt\n"
   ]
  },
  {
   "cell_type": "code",
   "execution_count": 2,
   "metadata": {},
   "outputs": [],
   "source": [
    "# Definir caminhos e parâmetros\n",
    "DATASET_PATH = \"../data/genres_original/\"  # Caminho para o dataset de gêneros originais\n",
    "JSON_PATH = \"../data/data_10.json\"        # Caminho para salvar o arquivo JSON\n",
    "SAMPLE_RATE = 22050                        # Taxa de amostragem\n",
    "TRACK_DURATION = 30                         # Duração de cada faixa em segundos\n",
    "SAMPLES_PER_TRACK = SAMPLE_RATE * TRACK_DURATION  # Número de amostras por faixa\n",
    "\n",
    "# Número de segmentos que cada faixa de áudio será dividida\n",
    "NUM_SEGMENTS = 10\n",
    "\n",
    "# Parâmetros para extração das MFCCs\n",
    "NUM_MFCC = 13\n",
    "N_FFT = 2048\n",
    "HOP_LENGTH = 512\n"
   ]
  },
  {
   "cell_type": "code",
   "execution_count": 3,
   "metadata": {},
   "outputs": [],
   "source": [
    "def save_mfcc(dataset_path, json_path, num_mfcc=13, n_fft=2048, hop_length=512, num_segments=10):\n",
    "    \"\"\"Extrai as MFCCs do dataset de música e as salva em um arquivo JSON junto com os rótulos de gêneros.\n",
    "    \n",
    "    :param dataset_path (str): Caminho para o dataset de gêneros musicais.\n",
    "    :param json_path (str): Caminho para salvar o arquivo JSON.\n",
    "    :param num_mfcc (int): Número de coeficientes MFCC a serem extraídos.\n",
    "    :param n_fft (int): Número de amostras por FFT.\n",
    "    :param hop_length (int): Número de amostras entre sucessivas transformadas FFT.\n",
    "    :param num_segments (int): Número de segmentos em que cada faixa de áudio será dividida.\n",
    "    \"\"\"\n",
    "    \n",
    "    # Dicionário para armazenar os dados\n",
    "    data = {\n",
    "        \"mapping\": [],\n",
    "        \"labels\": [],\n",
    "        \"mfcc\": []\n",
    "    }\n",
    "    \n",
    "    samples_per_segment = int(SAMPLES_PER_TRACK / num_segments)\n",
    "    num_mfcc_vectors_per_segment = math.ceil(samples_per_segment / hop_length)\n",
    "    \n",
    "    # Lista para registrar arquivos problemáticos\n",
    "    problematic_files = []\n",
    "    \n",
    "    # Loop através de todas as pastas de gênero\n",
    "    for i, (dirpath, dirnames, filenames) in enumerate(os.walk(dataset_path)):\n",
    "        # Ignorar a pasta principal\n",
    "        if dirpath != dataset_path:\n",
    "            # Extrair o rótulo do gênero a partir do nome da pasta\n",
    "            semantic_label = os.path.basename(dirpath)\n",
    "            data[\"mapping\"].append(semantic_label)\n",
    "            print(f\"\\nProcessing Genre: {semantic_label}\")\n",
    "            \n",
    "            # Processar todos os arquivos de áudio na pasta de gênero\n",
    "            for f in filenames:\n",
    "                file_path = os.path.join(dirpath, f)\n",
    "                try:\n",
    "                    # Carregar o arquivo de áudio\n",
    "                    signal, sr = librosa.load(file_path, sr=SAMPLE_RATE)\n",
    "                    \n",
    "                    # Verificar se a duração do sinal corresponde ao esperado\n",
    "                    if len(signal) < SAMPLES_PER_TRACK:\n",
    "                        print(f\"File {file_path} is shorter than expected. Skipping.\")\n",
    "                        problematic_files.append(file_path)\n",
    "                        continue\n",
    "                    \n",
    "                    # Processar todos os segmentos de áudio\n",
    "                    for d in range(num_segments):\n",
    "                        # Calcular o início e o fim das amostras para o segmento atual\n",
    "                        start_sample = samples_per_segment * d\n",
    "                        end_sample = start_sample + samples_per_segment\n",
    "                        \n",
    "                        # Extrair as MFCCs - Argumento nomeado 'y' adicionado\n",
    "                        mfcc = librosa.feature.mfcc(y=signal[start_sample:end_sample],\n",
    "                                                    sr=sr,\n",
    "                                                    n_mfcc=num_mfcc,\n",
    "                                                    n_fft=n_fft,\n",
    "                                                    hop_length=hop_length)\n",
    "                        mfcc = mfcc.T  # Transpor para que cada linha represente um vetor de MFCC\n",
    "                        \n",
    "                        # Verificar se o número de vetores de MFCC está correto\n",
    "                        if len(mfcc) == num_mfcc_vectors_per_segment:\n",
    "                            data[\"mfcc\"].append(mfcc.tolist())\n",
    "                            data[\"labels\"].append(i-1)  # Ajustar o índice do rótulo\n",
    "                        else:\n",
    "                            print(f\"Segment {d+1} in file {file_path} has an unexpected number of MFCC vectors. Skipping.\")\n",
    "                            problematic_files.append(file_path)\n",
    "                            \n",
    "                except Exception as e:\n",
    "                    print(f\"Error processing {file_path}: {e}\")\n",
    "                    problematic_files.append(file_path)\n",
    "    \n",
    "    # Salvar os dados extraídos no arquivo JSON\n",
    "    with open(json_path, \"w\") as fp:\n",
    "        json.dump(data, fp, indent=4)\n",
    "    \n",
    "    print(\"\\nMFCCs have been successfully saved to JSON file!\")\n",
    "    \n",
    "    # Salvar os arquivos problemáticos em um log\n",
    "    if problematic_files:\n",
    "        with open(\"../data/problematic_files.log\", \"w\") as log_file:\n",
    "            for file in problematic_files:\n",
    "                log_file.write(f\"{file}\\n\")\n",
    "        print(f\"\\nFound {len(problematic_files)} problematic files. Details are saved in 'problematic_files.log'.\")\n",
    "    else:\n",
    "        print(\"\\nNo problematic files found.\")\n"
   ]
  },
  {
   "cell_type": "code",
   "execution_count": 4,
   "metadata": {},
   "outputs": [
    {
     "name": "stdout",
     "output_type": "stream",
     "text": [
      "\n",
      "Processing Genre: blues\n",
      "\n",
      "Processing Genre: classical\n",
      "File ../data/genres_original/classical\\classical.00049.wav is shorter than expected. Skipping.\n",
      "File ../data/genres_original/classical\\classical.00051.wav is shorter than expected. Skipping.\n",
      "\n",
      "Processing Genre: country\n",
      "File ../data/genres_original/country\\country.00003.wav is shorter than expected. Skipping.\n",
      "File ../data/genres_original/country\\country.00004.wav is shorter than expected. Skipping.\n",
      "File ../data/genres_original/country\\country.00007.wav is shorter than expected. Skipping.\n",
      "\n",
      "Processing Genre: disco\n",
      "File ../data/genres_original/disco\\disco.00014.wav is shorter than expected. Skipping.\n",
      "\n",
      "Processing Genre: hiphop\n",
      "File ../data/genres_original/hiphop\\hiphop.00031.wav is shorter than expected. Skipping.\n",
      "File ../data/genres_original/hiphop\\hiphop.00032.wav is shorter than expected. Skipping.\n",
      "\n",
      "Processing Genre: jazz\n"
     ]
    },
    {
     "name": "stderr",
     "output_type": "stream",
     "text": [
      "C:\\Users\\ianfe\\AppData\\Local\\Temp\\ipykernel_25720\\1903647368.py:39: UserWarning: PySoundFile failed. Trying audioread instead.\n",
      "  signal, sr = librosa.load(file_path, sr=SAMPLE_RATE)\n",
      "c:\\Users\\ianfe\\Desktop\\music bot\\env\\Lib\\site-packages\\librosa\\core\\audio.py:184: FutureWarning: librosa.core.audio.__audioread_load\n",
      "\tDeprecated as of librosa version 0.10.0.\n",
      "\tIt will be removed in librosa version 1.0.\n",
      "  y, sr_native = __audioread_load(path, offset, duration, dtype)\n"
     ]
    },
    {
     "name": "stdout",
     "output_type": "stream",
     "text": [
      "Error processing ../data/genres_original/jazz\\jazz.00054.wav: \n",
      "\n",
      "Processing Genre: metal\n",
      "\n",
      "Processing Genre: pop\n",
      "\n",
      "Processing Genre: reggae\n",
      "\n",
      "Processing Genre: rock\n",
      "File ../data/genres_original/rock\\rock.00038.wav is shorter than expected. Skipping.\n",
      "\n",
      "MFCCs have been successfully saved to JSON file!\n",
      "\n",
      "Found 10 problematic files. Details are saved in 'problematic_files.log'.\n"
     ]
    }
   ],
   "source": [
    "# Executar a função para extrair e salvar as MFCCs\n",
    "save_mfcc(DATASET_PATH, JSON_PATH, num_mfcc=NUM_MFCC, n_fft=N_FFT, hop_length=HOP_LENGTH, num_segments=NUM_SEGMENTS)\n"
   ]
  },
  {
   "cell_type": "code",
   "execution_count": 5,
   "metadata": {},
   "outputs": [
    {
     "name": "stdout",
     "output_type": "stream",
     "text": [
      "\n",
      "Número de gêneros mapeados: 10\n",
      "Número total de segmentos de áudio: 9900\n",
      "Número total de rótulos: 9900\n"
     ]
    }
   ],
   "source": [
    "# Verificar o conteúdo do arquivo JSON\n",
    "import json\n",
    "\n",
    "with open(JSON_PATH, \"r\") as fp:\n",
    "    data = json.load(fp)\n",
    "\n",
    "print(f\"\\nNúmero de gêneros mapeados: {len(data['mapping'])}\")\n",
    "print(f\"Número total de segmentos de áudio: {len(data['mfcc'])}\")\n",
    "print(f\"Número total de rótulos: {len(data['labels'])}\")\n"
   ]
  }
 ],
 "metadata": {
  "kernelspec": {
   "display_name": "env",
   "language": "python",
   "name": "python3"
  },
  "language_info": {
   "codemirror_mode": {
    "name": "ipython",
    "version": 3
   },
   "file_extension": ".py",
   "mimetype": "text/x-python",
   "name": "python",
   "nbconvert_exporter": "python",
   "pygments_lexer": "ipython3",
   "version": "3.12.4"
  }
 },
 "nbformat": 4,
 "nbformat_minor": 2
}
